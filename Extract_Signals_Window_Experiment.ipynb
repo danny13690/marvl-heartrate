{
 "cells": [
  {
   "cell_type": "code",
   "execution_count": 1,
   "metadata": {},
   "outputs": [
    {
     "data": {
      "text/plain": [
       "<module 'process_heartrate' from '/Users/phillipkim/projects/marvl-heartrate/process_heartrate.py'>"
      ]
     },
     "execution_count": 1,
     "metadata": {},
     "output_type": "execute_result"
    }
   ],
   "source": [
    "import csv\n",
    "import cv2\n",
    "import os\n",
    "import numpy as np\n",
    "import matplotlib.pyplot as plt \n",
    "\n",
    "import landmarks_utils\n",
    "import process_heartrate as utils\n",
    "from importlib import reload\n",
    "\n",
    "video_dir = \"dataset/videos/\"\n",
    "csv_path = \"dataset/dataset.csv\"\n",
    "landmarks_path = \"dataset/outputs/landmarks/\"\n",
    "datastreams_path = \"dataset/outputs/datastreams/\"\n",
    "frames_path = \"dataset/outputs/frames/\"\n",
    "\n",
    "from dataset_utils import Dataset\n",
    "dataset = Dataset(csv_path)\n",
    "fields, rows = dataset.open_csv()\n",
    "reload(utils)"
   ]
  },
  {
   "cell_type": "code",
   "execution_count": 2,
   "metadata": {},
   "outputs": [],
   "source": [
    "\"\"\" samples is a list containing all the id's of the videos that we will be experimenting with.\n",
    "    We store in gt, the ground truth heart rate for each of these sample videos.\n",
    "\"\"\"\n",
    "\n",
    "samples = [2,4,6,7,8,9,10,11,12,13,14,16,17,18,19,20,21,22]\n",
    "gt = {i: float(rows[i][fields.adjusted_hr_bpm]) for i in samples}"
   ]
  },
  {
   "cell_type": "code",
   "execution_count": 5,
   "metadata": {},
   "outputs": [],
   "source": [
    "reload(utils)\n",
    "\n",
    "def get_hr_median_res(window, step, mode):\n",
    "    \"\"\"\n",
    "        Runs all videos through algorithm for predicting heartrate using either \"median\" or \"mean\" method\n",
    "        \n",
    "        params:\n",
    "            window - int representing size of window\n",
    "            step - int representing step size\n",
    "            mode - choice between \"median\" or \"mean\"\n",
    "            \n",
    "        returns:\n",
    "            res_fft - dictionary mapping video id's to heartrate prediction made using FFT alg\n",
    "            res_pos - dictionary mapping video id's to heartrate prediction made using POS alg\n",
    "    \"\"\"\n",
    "    res_fft = {}\n",
    "    res_pos = {}\n",
    "    for filename in os.listdir(datastreams_path):\n",
    "        if filename[0] == '.': continue\n",
    "        if not filename.isnumeric():\n",
    "            continue\n",
    "        index = int(filename)\n",
    "\n",
    "        fps = float(rows[index][fields.vid_fps])\n",
    "        signal_1d = np.load(datastreams_path+filename+\"/signal_1D.npy\")\n",
    "        signal_3d = np.load(datastreams_path+filename+\"/signal_3D.npy\")\n",
    "        \n",
    "        hr_median_fft, _ = utils.process_sliding_window(signal_1d, fps, window, step, utils.process_fft, mode, filter=True)\n",
    "        hr_median_pos, _ = utils.process_sliding_window(signal_3d, fps, window, step, utils.process_pos, mode)\n",
    "\n",
    "        res_fft[index] = hr_median_fft * 60\n",
    "        res_pos[index] = hr_median_pos * 60\n",
    "\n",
    "    return res_fft, res_pos"
   ]
  },
  {
   "cell_type": "code",
   "execution_count": 6,
   "metadata": {},
   "outputs": [],
   "source": [
    "import math\n",
    "\n",
    "def get_rmse(res):\n",
    "    \"\"\" global variable gt needed (maps id to ground truth heart rate)\n",
    "        param:\n",
    "            res - dictionary that maps id to heartrate prediction\n",
    "        returns:\n",
    "            rmse - float representing rmse between res and gt\n",
    "    \"\"\"\n",
    "    \n",
    "    err = 0\n",
    "    count = 0\n",
    "    for k, v in res.items():\n",
    "        if k in gt and not math.isnan(v):\n",
    "            err += (gt[k] - v)**2\n",
    "            count += 1\n",
    "    return math.sqrt(err / count)\n"
   ]
  },
  {
   "cell_type": "code",
   "execution_count": 11,
   "metadata": {},
   "outputs": [
    {
     "name": "stdout",
     "output_type": "stream",
     "text": [
      "Params... window: 3, step: 1, mode: mean\n",
      "FFT RMSE: 29.796366697512617, POS RMSE: 13.188029161215315\n",
      "-----\n",
      "Params... window: 3, step: 1, mode: median\n",
      "FFT RMSE: 27.891039639073966, POS RMSE: 16.14357302297292\n",
      "-----\n",
      "Params... window: 3, step: 2, mode: mean\n",
      "FFT RMSE: 29.97086328738106, POS RMSE: 13.532777907972056\n",
      "-----\n",
      "Params... window: 3, step: 2, mode: median\n",
      "FFT RMSE: 23.871850945376636, POS RMSE: 17.03394461490084\n",
      "-----\n",
      "Params... window: 3, step: 3, mode: mean\n",
      "FFT RMSE: 33.09242892361899, POS RMSE: 18.41759535022877\n",
      "-----\n",
      "Params... window: 3, step: 3, mode: median\n",
      "FFT RMSE: 31.223295571646204, POS RMSE: 21.9741917538063\n",
      "-----\n",
      "Params... window: 3, step: 5, mode: mean\n",
      "FFT RMSE: 30.254100042951524, POS RMSE: 20.37349315734864\n",
      "-----\n",
      "Params... window: 3, step: 5, mode: median\n",
      "FFT RMSE: 26.62391333595378, POS RMSE: 18.17764547636845\n",
      "-----\n",
      "Params... window: 3, step: 7, mode: mean\n",
      "FFT RMSE: 34.18324581921132, POS RMSE: 17.775542625636646\n",
      "-----\n",
      "Params... window: 3, step: 7, mode: median\n",
      "FFT RMSE: 30.52150347719427, POS RMSE: 20.235448262093843\n",
      "-----\n",
      "Params... window: 3, step: 10, mode: mean\n",
      "FFT RMSE: 29.089363708552487, POS RMSE: 26.99023574987632\n",
      "-----\n",
      "Params... window: 3, step: 10, mode: median\n",
      "FFT RMSE: 30.849698932552464, POS RMSE: 34.96474648953338\n",
      "-----\n",
      "Params... window: 5, step: 1, mode: mean\n",
      "FFT RMSE: 23.762486861849183, POS RMSE: 13.605298103559656\n",
      "-----\n",
      "Params... window: 5, step: 1, mode: median\n",
      "FFT RMSE: 17.32785936334053, POS RMSE: 16.486570169173117\n",
      "-----\n",
      "Params... window: 5, step: 2, mode: mean\n",
      "FFT RMSE: 24.019766341832273, POS RMSE: 14.682511489472834\n",
      "-----\n",
      "Params... window: 5, step: 2, mode: median\n",
      "FFT RMSE: 16.35900669154649, POS RMSE: 18.80077214164886\n",
      "-----\n",
      "Params... window: 5, step: 3, mode: mean\n",
      "FFT RMSE: 27.331353954243625, POS RMSE: 15.345990539675562\n",
      "-----\n",
      "Params... window: 5, step: 3, mode: median\n",
      "FFT RMSE: 27.247072930979694, POS RMSE: 17.308346344808722\n",
      "-----\n",
      "Params... window: 5, step: 5, mode: mean\n",
      "FFT RMSE: 21.456960752978652, POS RMSE: 15.246116363465253\n",
      "-----\n",
      "Params... window: 5, step: 5, mode: median\n",
      "FFT RMSE: 14.800754870514368, POS RMSE: 18.61181700167645\n",
      "-----\n",
      "Params... window: 5, step: 7, mode: mean\n",
      "FFT RMSE: 26.713516256197245, POS RMSE: 15.565523044785863\n",
      "-----\n",
      "Params... window: 5, step: 7, mode: median\n",
      "FFT RMSE: 26.011907189549934, POS RMSE: 17.609377771958183\n",
      "-----\n",
      "Params... window: 5, step: 10, mode: mean\n",
      "FFT RMSE: 22.431448945325418, POS RMSE: 20.1879540311716\n",
      "-----\n",
      "Params... window: 5, step: 10, mode: median\n",
      "FFT RMSE: 16.992504550351274, POS RMSE: 20.788022048958677\n",
      "-----\n",
      "Params... window: 7, step: 1, mode: mean\n",
      "FFT RMSE: 20.99833931456768, POS RMSE: 14.66267523558783\n",
      "-----\n",
      "Params... window: 7, step: 1, mode: median\n",
      "FFT RMSE: 16.623230884900057, POS RMSE: 17.408628197451968\n",
      "-----\n",
      "Params... window: 7, step: 2, mode: mean\n",
      "FFT RMSE: 20.41175168407118, POS RMSE: 14.165384598439593\n",
      "-----\n",
      "Params... window: 7, step: 2, mode: median\n",
      "FFT RMSE: 15.885882172494128, POS RMSE: 19.36199556413334\n",
      "-----\n",
      "Params... window: 7, step: 3, mode: mean\n",
      "FFT RMSE: 21.656762482062415, POS RMSE: 14.461672244293997\n",
      "-----\n",
      "Params... window: 7, step: 3, mode: median\n",
      "FFT RMSE: 16.464636733540033, POS RMSE: 17.793061131064608\n",
      "-----\n",
      "Params... window: 7, step: 5, mode: mean\n",
      "FFT RMSE: 20.085338162261525, POS RMSE: 14.912472513849178\n",
      "-----\n",
      "Params... window: 7, step: 5, mode: median\n",
      "FFT RMSE: 14.615559642078765, POS RMSE: 18.096084093930077\n",
      "-----\n",
      "Params... window: 7, step: 7, mode: mean\n",
      "FFT RMSE: 22.383660090084984, POS RMSE: 17.55777646831638\n",
      "-----\n",
      "Params... window: 7, step: 7, mode: median\n",
      "FFT RMSE: 22.440877834631305, POS RMSE: 18.765248801184963\n",
      "-----\n",
      "Params... window: 7, step: 10, mode: mean\n",
      "FFT RMSE: 21.30843500297421, POS RMSE: 13.961882510727582\n",
      "-----\n",
      "Params... window: 7, step: 10, mode: median\n",
      "FFT RMSE: 14.432636793920663, POS RMSE: 17.89035633875224\n",
      "-----\n",
      "Params... window: 10, step: 1, mode: mean\n",
      "FFT RMSE: 19.102321833247487, POS RMSE: 18.006043242434927\n",
      "-----\n",
      "Params... window: 10, step: 1, mode: median\n",
      "FFT RMSE: 15.540501090904822, POS RMSE: 21.01537417464387\n",
      "-----\n",
      "Params... window: 10, step: 2, mode: mean\n",
      "FFT RMSE: 18.665039105317035, POS RMSE: 17.498079850706787\n",
      "-----\n",
      "Params... window: 10, step: 2, mode: median\n",
      "FFT RMSE: 16.40422739478182, POS RMSE: 20.183650976403904\n",
      "-----\n",
      "Params... window: 10, step: 3, mode: mean\n",
      "FFT RMSE: 22.138597204341966, POS RMSE: 18.556786412039255\n",
      "-----\n",
      "Params... window: 10, step: 3, mode: median\n",
      "FFT RMSE: 16.811726380630923, POS RMSE: 21.42523481015992\n",
      "-----\n",
      "Params... window: 10, step: 5, mode: mean\n",
      "FFT RMSE: 16.931339523990427, POS RMSE: 19.09167317785394\n",
      "-----\n",
      "Params... window: 10, step: 5, mode: median\n",
      "FFT RMSE: 14.532411901577595, POS RMSE: 22.40341500515689\n",
      "-----\n",
      "Params... window: 10, step: 7, mode: mean\n",
      "FFT RMSE: 21.77633438031674, POS RMSE: 20.541624431371186\n",
      "-----\n",
      "Params... window: 10, step: 7, mode: median\n",
      "FFT RMSE: 14.860535974997367, POS RMSE: 21.502794441591522\n",
      "-----\n",
      "Params... window: 10, step: 10, mode: mean\n",
      "FFT RMSE: 15.6283390109065, POS RMSE: 17.762913523881583\n",
      "-----\n",
      "Params... window: 10, step: 10, mode: median\n",
      "FFT RMSE: 12.15227635851924, POS RMSE: 20.382284259059215\n",
      "-----\n"
     ]
    },
    {
     "name": "stderr",
     "output_type": "stream",
     "text": [
      "/Users/phillipkim/opt/anaconda3/envs/marvl/lib/python3.7/site-packages/numpy/core/fromnumeric.py:3420: RuntimeWarning: Mean of empty slice.\n",
      "  out=out, **kwargs)\n",
      "/Users/phillipkim/opt/anaconda3/envs/marvl/lib/python3.7/site-packages/numpy/core/_methods.py:188: RuntimeWarning: invalid value encountered in double_scalars\n",
      "  ret = ret.dtype.type(ret / rcount)\n"
     ]
    },
    {
     "name": "stdout",
     "output_type": "stream",
     "text": [
      "Params... window: 12, step: 1, mode: mean\n",
      "FFT RMSE: 20.411818249332406, POS RMSE: 18.110471532650838\n",
      "-----\n",
      "Params... window: 12, step: 1, mode: median\n",
      "FFT RMSE: 16.116258488854392, POS RMSE: 21.638691861937044\n",
      "-----\n",
      "Params... window: 12, step: 2, mode: mean\n",
      "FFT RMSE: 19.339951954877023, POS RMSE: 18.225008361598704\n",
      "-----\n",
      "Params... window: 12, step: 2, mode: median\n",
      "FFT RMSE: 15.791622713928732, POS RMSE: 21.838764215781\n",
      "-----\n",
      "Params... window: 12, step: 3, mode: mean\n",
      "FFT RMSE: 21.993635818308565, POS RMSE: 19.33165732703656\n",
      "-----\n",
      "Params... window: 12, step: 3, mode: median\n",
      "FFT RMSE: 16.246246103399443, POS RMSE: 23.303563084428305\n",
      "-----\n",
      "Params... window: 12, step: 5, mode: mean\n",
      "FFT RMSE: 16.95567800318307, POS RMSE: 18.548346182974605\n",
      "-----\n",
      "Params... window: 12, step: 5, mode: median\n",
      "FFT RMSE: 16.085210023664168, POS RMSE: 21.944611368149477\n",
      "-----\n",
      "Params... window: 12, step: 7, mode: mean\n",
      "FFT RMSE: 15.905091358969864, POS RMSE: 21.55190376730861\n",
      "-----\n",
      "Params... window: 12, step: 7, mode: median\n",
      "FFT RMSE: 16.589408814492526, POS RMSE: 22.178890887708576\n",
      "-----\n",
      "Params... window: 12, step: 10, mode: mean\n",
      "FFT RMSE: 17.349816811069577, POS RMSE: 18.02211061438448\n",
      "-----\n",
      "Params... window: 12, step: 10, mode: median\n",
      "FFT RMSE: 17.306856493534738, POS RMSE: 19.839722953267877\n",
      "-----\n",
      "Params... window: 15, step: 1, mode: mean\n",
      "FFT RMSE: 18.586364561402444, POS RMSE: 17.633249879923998\n",
      "-----\n",
      "Params... window: 15, step: 1, mode: median\n",
      "FFT RMSE: 15.929669240448149, POS RMSE: 20.384364174587237\n",
      "-----\n",
      "Params... window: 15, step: 2, mode: mean\n",
      "FFT RMSE: 18.451923722075488, POS RMSE: 18.154980996621575\n",
      "-----\n",
      "Params... window: 15, step: 2, mode: median\n",
      "FFT RMSE: 15.840732378118046, POS RMSE: 20.09557303428603\n",
      "-----\n",
      "Params... window: 15, step: 3, mode: mean\n",
      "FFT RMSE: 20.88794919032288, POS RMSE: 17.405817322686598\n",
      "-----\n",
      "Params... window: 15, step: 3, mode: median\n",
      "FFT RMSE: 16.2674428036712, POS RMSE: 20.01926898103815\n",
      "-----\n",
      "Params... window: 15, step: 5, mode: mean\n",
      "FFT RMSE: 19.936332697611533, POS RMSE: 19.995208074497384\n",
      "-----\n",
      "Params... window: 15, step: 5, mode: median\n",
      "FFT RMSE: 16.20066716049634, POS RMSE: 20.710418932246785\n",
      "-----\n",
      "Params... window: 15, step: 7, mode: mean\n",
      "FFT RMSE: 20.465363135451717, POS RMSE: 17.992512053333797\n",
      "-----\n",
      "Params... window: 15, step: 7, mode: median\n",
      "FFT RMSE: 15.886542661204201, POS RMSE: 20.923051336522448\n",
      "-----\n",
      "Params... window: 15, step: 10, mode: mean\n",
      "FFT RMSE: 16.72916410485162, POS RMSE: 20.66245516064813\n",
      "-----\n",
      "Params... window: 15, step: 10, mode: median\n",
      "FFT RMSE: 16.72916410485162, POS RMSE: 20.66245516064813\n",
      "-----\n",
      "Params... window: 20, step: 1, mode: mean\n",
      "FFT RMSE: 16.29467317104451, POS RMSE: 18.841256968471537\n",
      "-----\n",
      "Params... window: 20, step: 1, mode: median\n",
      "FFT RMSE: 14.01047606889053, POS RMSE: 21.669159223927767\n",
      "-----\n",
      "Params... window: 20, step: 2, mode: mean\n",
      "FFT RMSE: 16.18558916554008, POS RMSE: 18.909497278871143\n",
      "-----\n",
      "Params... window: 20, step: 2, mode: median\n",
      "FFT RMSE: 14.382324350086998, POS RMSE: 20.64542298513675\n",
      "-----\n",
      "Params... window: 20, step: 3, mode: mean\n",
      "FFT RMSE: 14.671777089826948, POS RMSE: 19.398319316949102\n",
      "-----\n",
      "Params... window: 20, step: 3, mode: median\n",
      "FFT RMSE: 12.68427809550042, POS RMSE: 21.107901235624\n",
      "-----\n",
      "Params... window: 20, step: 5, mode: mean\n",
      "FFT RMSE: 20.195140137664044, POS RMSE: 20.483064392218452\n",
      "-----\n",
      "Params... window: 20, step: 5, mode: median\n",
      "FFT RMSE: 22.818072793337862, POS RMSE: 22.423483689262664\n",
      "-----\n",
      "Params... window: 20, step: 7, mode: mean\n",
      "FFT RMSE: 17.374080258631125, POS RMSE: 17.173735572877288\n",
      "-----\n",
      "Params... window: 20, step: 7, mode: median\n",
      "FFT RMSE: 17.580701808837233, POS RMSE: 16.772507160789043\n",
      "-----\n",
      "Params... window: 20, step: 10, mode: mean\n",
      "FFT RMSE: 25.926262777817517, POS RMSE: 22.46453521466551\n",
      "-----\n",
      "Params... window: 20, step: 10, mode: median\n",
      "FFT RMSE: 25.926262777817517, POS RMSE: 22.46453521466551\n",
      "-----\n",
      "Best FFT RMSE: 12.15227635851924, with params{'window': 10, 'mode': 'median', 'step': 10}\n",
      "Best POS RMSE: 13.188029161215315, with params{'window': 3, 'mode': 'mean', 'step': 1}\n"
     ]
    }
   ],
   "source": [
    "# Choose hyperparameteres to experiment with below\n",
    "modes = [\"mean\", \"median\"]\n",
    "windows = [3, 5, 7, 10, 12, 15, 20]\n",
    "steps = [1, 2, 3, 5, 7, 10]\n",
    "\n",
    "best_rmse_fft = float('inf')\n",
    "best_rmse_pos = float('inf')\n",
    "best_params_fft = None\n",
    "best_params_pos = None\n",
    "\n",
    "\"\"\" Here, we loop through all combinations of parameters, storing the best combination of\n",
    "    parameters. At the end, we print the best hyperparameter choices for both FFT and POS.\n",
    "    We also store all results in the matrices rmse_matrix_fft and rmse_matrix_pos\n",
    "\"\"\"\n",
    "rmse_matrix_fft = np.zeros((len(windows), len(steps), len(modes)))\n",
    "rmse_matrix_pos = np.zeros((len(windows), len(steps), len(modes)))\n",
    "for i in range(len(windows)):\n",
    "    for j in range(len(steps)):\n",
    "        for k in range(len(modes)):\n",
    "            window = windows[i]\n",
    "            step = steps[j]\n",
    "            mode = modes[k]\n",
    "            res_fft, res_pos = get_hr_median_res(window, step, mode)\n",
    "            rmse_fft = get_rmse(res_fft)\n",
    "            rmse_pos = get_rmse(res_pos)\n",
    "            print(\"Params... window: {}, step: {}, mode: {}\".format(window, step, mode))\n",
    "            print(\"FFT RMSE: {}, POS RMSE: {}\".format(rmse_fft, rmse_pos))\n",
    "            print(\"-----\")\n",
    "            if rmse_fft < best_rmse_fft:\n",
    "                best_rmse_fft = rmse_fft\n",
    "                best_params_fft = {\"window\": window, \"mode\": mode, \"step\": step}\n",
    "            if rmse_pos < best_rmse_pos:\n",
    "                best_rmse_pos = rmse_pos\n",
    "                best_params_pos = {\"window\": window, \"mode\": mode, \"step\": step}\n",
    "                \n",
    "            rmse_matrix_fft[i, j, k] = rmse_fft\n",
    "            rmse_matrix_pos[i, j, k] = rmse_pos\n",
    "\n",
    "print(\"Best FFT RMSE: {}, with params{}\".format(best_rmse_fft, best_params_fft))\n",
    "print(\"Best POS RMSE: {}, with params{}\".format(best_rmse_pos, best_params_pos))"
   ]
  },
  {
   "cell_type": "markdown",
   "metadata": {},
   "source": [
    "The following cells plot the average RMSE against the hyperparameter choices"
   ]
  },
  {
   "cell_type": "code",
   "execution_count": 9,
   "metadata": {},
   "outputs": [
    {
     "data": {
      "image/png": "[encoded data removed]",
      "text/plain": [
       "<Figure size 432x288 with 1 Axes>"
      ]
     },
     "metadata": {
      "needs_background": "light"
     },
     "output_type": "display_data"
    },
    {
     "data": {
      "image/png": "[encoded data removed]",
      "text/plain": [
       "<Figure size 432x288 with 1 Axes>"
      ]
     },
     "metadata": {
      "needs_background": "light"
     },
     "output_type": "display_data"
    }
   ],
   "source": [
    "plt.bar(modes, np.mean(rmse_matrix_fft, axis=(0,1)))\n",
    "plt.title(\"FFT_median: mode vs RMSE\")\n",
    "plt.show()\n",
    "plt.bar(modes, np.mean(rmse_matrix_pos, axis=(0,1)))\n",
    "plt.title(\"POS_median: mode vs RMSE\")\n",
    "plt.show()"
   ]
  },
  {
   "cell_type": "code",
   "execution_count": 10,
   "metadata": {},
   "outputs": [
    {
     "data": {
      "image/png": "[encoded data removed]",
      "text/plain": [
       "<Figure size 432x288 with 1 Axes>"
      ]
     },
     "metadata": {
      "needs_background": "light"
     },
     "output_type": "display_data"
    },
    {
     "data": {
      "image/png": "[encoded data removed]",
      "text/plain": [
       "<Figure size 432x288 with 1 Axes>"
      ]
     },
     "metadata": {
      "needs_background": "light"
     },
     "output_type": "display_data"
    }
   ],
   "source": [
    "plt.plot(windows, np.mean(rmse_matrix_fft, axis=(1,2)))\n",
    "plt.xlabel(\"window size\")\n",
    "plt.ylabel(\"RMSE\")\n",
    "plt.title(\"FFT_median: window vs RMSE\")\n",
    "plt.show()\n",
    "plt.plot(windows, np.mean(rmse_matrix_pos, axis=(1,2)))\n",
    "plt.xlabel(\"window size\")\n",
    "plt.ylabel(\"RMSE\")\n",
    "plt.title(\"POS_median: window vs RMSE\")\n",
    "plt.show()"
   ]
  },
  {
   "cell_type": "code",
   "execution_count": 104,
   "metadata": {},
   "outputs": [
    {
     "data": {
      "image/png": "[encoded data removed]",
      "text/plain": [
       "<Figure size 432x288 with 1 Axes>"
      ]
     },
     "metadata": {
      "needs_background": "light"
     },
     "output_type": "display_data"
    },
    {
     "data": {
      "image/png": "[encoded data removed]",
      "text/plain": [
       "<Figure size 432x288 with 1 Axes>"
      ]
     },
     "metadata": {
      "needs_background": "light"
     },
     "output_type": "display_data"
    }
   ],
   "source": [
    "plt.plot(steps, np.mean(rmse_matrix_fft, axis=(0,2)))\n",
    "plt.xlabel(\"step size\")\n",
    "plt.ylabel(\"RMSE\")\n",
    "plt.title(\"FFT_median: step size vs RMSE\")\n",
    "plt.show()\n",
    "plt.plot(steps, np.mean(rmse_matrix_pos, axis=(0,2)))\n",
    "plt.xlabel(\"step size\")\n",
    "plt.ylabel(\"RMSE\")\n",
    "plt.title(\"POS_median: step size vs RMSE\")\n",
    "plt.show()"
   ]
  },
  {
   "cell_type": "code",
   "execution_count": null,
   "metadata": {},
   "outputs": [],
   "source": []
  }
 ],
 "metadata": {
  "kernelspec": {
   "display_name": "Python 3",
   "language": "python",
   "name": "python3"
  },
  "language_info": {
   "codemirror_mode": {
    "name": "ipython",
    "version": 3
   },
   "file_extension": ".py",
   "mimetype": "text/x-python",
   "name": "python",
   "nbconvert_exporter": "python",
   "pygments_lexer": "ipython3",
   "version": "3.7.10"
  }
 },
 "nbformat": 4,
 "nbformat_minor": 2
}
